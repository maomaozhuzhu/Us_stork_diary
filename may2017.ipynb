{
 "cells": [
  {
   "cell_type": "markdown",
   "metadata": {},
   "source": [
    "### 5/17/2017"
   ]
  },
  {
   "cell_type": "markdown",
   "metadata": {},
   "source": [
    "#### forecast of DELT\n",
    "1. 今天delt杀跌同时放量，可以认为是一种快速洗盘。预测接下来几天，股价会继续下跌至1.8左右，然后快速反弹，之后盘整，同时成交量缩小。在股价下跌后可以考虑进入。\n",
    "2. 洗盘的原因是在之前的上涨和高位盘整中，成交量明显偏大，代表着筹码松动。可能原因是之前的套牢盘在前两天的大涨中撤出，而短线炒家进入追涨。因此需要一波下跌来让这些短线炒家交出自己的筹码，而今天的大幅杀跌和放量说明庄家的目的已经基本达到。\n",
    "3. 从而预测接下来将会进入短暂的整理期，以便进一步收集筹码。但不排除继续下跌的可能，如果继续下跌，那么下跌幅度可能深，但时间一定很短。"
   ]
  },
  {
   "cell_type": "code",
   "execution_count": null,
   "metadata": {
    "collapsed": true
   },
   "outputs": [],
   "source": []
  }
 ],
 "metadata": {
  "kernelspec": {
   "display_name": "Python 3",
   "language": "python",
   "name": "python3"
  },
  "language_info": {
   "codemirror_mode": {
    "name": "ipython",
    "version": 3
   },
   "file_extension": ".py",
   "mimetype": "text/x-python",
   "name": "python",
   "nbconvert_exporter": "python",
   "pygments_lexer": "ipython3",
   "version": "3.6.0"
  }
 },
 "nbformat": 4,
 "nbformat_minor": 2
}
